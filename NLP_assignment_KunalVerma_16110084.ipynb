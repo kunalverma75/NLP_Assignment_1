{
 "cells": [
  {
   "cell_type": "markdown",
   "metadata": {},
   "source": [
    "# NLP Assignment"
   ]
  },
  {
   "cell_type": "markdown",
   "metadata": {},
   "source": [
    "Importing all the required libraries and modules"
   ]
  },
  {
   "cell_type": "code",
   "execution_count": 39,
   "metadata": {},
   "outputs": [],
   "source": [
    "from nltk.tokenize import word_tokenize\n",
    "from collections import Counter\n",
    "import matplotlib.pyplot as plt"
   ]
  },
  {
   "cell_type": "markdown",
   "metadata": {},
   "source": [
    "Opening the text,i.e., Tom Sawyer, in which the licensing and other irrelevant parts have been removed"
   ]
  },
  {
   "cell_type": "code",
   "execution_count": 40,
   "metadata": {},
   "outputs": [],
   "source": [
    "f=open('tom_2.txt','r')\n",
    "raw=f.read()\n",
    "#print(raw)\n",
    "raw =raw.lower()\n",
    "#print(raw) # saves the text in raw\n"
   ]
  },
  {
   "cell_type": "markdown",
   "metadata": {},
   "source": [
    "Opening the text and changing the text into lowercase"
   ]
  },
  {
   "cell_type": "code",
   "execution_count": null,
   "metadata": {},
   "outputs": [],
   "source": [
    "c=0\n",
    "word_tokenize_list=word_tokenize(raw)  # tokenizes the text in list of words, contains undesirable contents like punctuations too\n",
    "\n",
    "word_tokenize_list_counter=Counter(word_tokenize_list)\n",
    "remove_list=[',','.',\"''\",'``','--','!','?',';',\"'s\",\"n't\"]\n",
    "for i in remove_list:\n",
    "\tdel word_tokenize_list_counter[i]\n",
    "                                        #print(word_tokenize_list_counter)\n",
    "for i in word_tokenize_list_counter:\n",
    "\tc+=word_tokenize_list_counter[i]"
   ]
  },
  {
   "cell_type": "markdown",
   "metadata": {},
   "source": [
    "Counting tokens and removing punctuations"
   ]
  },
  {
   "cell_type": "code",
   "execution_count": 41,
   "metadata": {},
   "outputs": [
    {
     "name": "stdout",
     "output_type": "stream",
     "text": [
      "types= 7487\n",
      "tokens= 71798\n",
      "TTR of the text= 0.1042786707150617\n"
     ]
    }
   ],
   "source": [
    "print(\"types=\",len(word_tokenize_list_counter))\n",
    "print(\"tokens=\",c)\n",
    "print(\"TTR of the text=\",float(len(word_tokenize_list_counter))/c)\n",
    "frequency=sorted(word_tokenize_list_counter.values())[::-1]\n",
    "rank=range(1,len(word_tokenize_list_counter)+1)"
   ]
  },
  {
   "cell_type": "markdown",
   "metadata": {},
   "source": [
    "Calculating Types, Tokens and TTR of the text\n"
   ]
  },
  {
   "cell_type": "markdown",
   "metadata": {},
   "source": [
    "types= 7487"
   ]
  },
  {
   "cell_type": "markdown",
   "metadata": {},
   "source": [
    "tokens= 71798"
   ]
  },
  {
   "cell_type": "markdown",
   "metadata": {},
   "source": [
    "TTR of the text= 0.1042786707150617"
   ]
  },
  {
   "cell_type": "code",
   "execution_count": 66,
   "metadata": {},
   "outputs": [
    {
     "name": "stdout",
     "output_type": "stream",
     "text": [
      "[5030.60086977]\n"
     ]
    },
    {
     "data": {
      "image/png": "[encoded data removed]",
      "text/plain": [
       "<Figure size 432x288 with 1 Axes>"
      ]
     },
     "metadata": {},
     "output_type": "display_data"
    }
   ],
   "source": [
    "from scipy.optimize import curve_fit\n",
    "def zipf(x,k):\n",
    "    return k/x\n",
    "init_vals=[8000]\n",
    "best_vals, covar = curve_fit(zipf, rank,frequency, p0=init_vals)\n",
    "print(best_vals)\n",
    "plt.plot(rank,frequency)\n",
    "plt.ylabel('Frequency')\n",
    "plt.xlabel('rank')\n",
    "plt.show()\n"
   ]
  },
  {
   "cell_type": "markdown",
   "metadata": {},
   "source": [
    "Checking zipf's law by plotting the graph between frequency and rank"
   ]
  },
  {
   "cell_type": "markdown",
   "metadata": {},
   "source": [
    "Zipf's first law holds true here, i.e., frequency is inversely proportional to rank"
   ]
  },
  {
   "cell_type": "markdown",
   "metadata": {},
   "source": [
    "Where f*r=constant=k where k comes out to be 5030"
   ]
  },
  {
   "cell_type": "code",
   "execution_count": 43,
   "metadata": {},
   "outputs": [],
   "source": [
    "length={}\n",
    "for i in word_tokenize_list_counter:\n",
    "    a=len(i)\n",
    "    if a in length:\n",
    "        length[a]+=word_tokenize_list_counter[i]\n",
    "    else:\n",
    "        length[a]=word_tokenize_list_counter[i]\n",
    "lst_length=sorted(length)\n",
    "lst_frequency=[length[i] for i in lst_length]\n",
    "#print(length,lst_length,lst_frequency)\n",
    "\n"
   ]
  },
  {
   "cell_type": "markdown",
   "metadata": {},
   "source": [
    "Creating lists of length and frequency of words of a particular length"
   ]
  },
  {
   "cell_type": "code",
   "execution_count": 8,
   "metadata": {},
   "outputs": [
    {
     "data": {
      "image/png": "[encoded data removed]",
      "text/plain": [
       "<Figure size 432x288 with 1 Axes>"
      ]
     },
     "metadata": {},
     "output_type": "display_data"
    }
   ],
   "source": [
    "plt.plot(lst_length,lst_frequency)\n",
    "plt.ylabel('Frequency')\n",
    "plt.xlabel('length')\n",
    "plt.show()"
   ]
  },
  {
   "cell_type": "markdown",
   "metadata": {},
   "source": [
    "Plotting the graph between frequency and length for checking zipf's other laws.\n",
    "We see that from the graph that zipf's law holds true for most of the words for lenght greater than 3.\n",
    "\n",
    "\n"
   ]
  },
  {
   "cell_type": "markdown",
   "metadata": {},
   "source": [
    "meanings\n",
    "Taking 13 random words 'order','lord','bear','die','adventure','effect','age','peace','clay','hollow','finger','circumstances','harm','confidence','tremendous'"
   ]
  },
  {
   "cell_type": "code",
   "execution_count": 71,
   "metadata": {},
   "outputs": [
    {
     "name": "stdout",
     "output_type": "stream",
     "text": [
      "list of root of frequency [2.0, 2.449489742783178, 2.449489742783178, 2.6457513110645907, 2.6457513110645907, 3.0, 3.1622776601683795, 3.3166247903554, 3.3166247903554, 3.4641016151377544, 3.7416573867739413, 3.7416573867739413, 3.872983346207417, 4.0, 4.123105625617661]\n",
      "list of number of meanings [2, 2, 2, 3, 3, 3, 2, 3, 3, 4, 3, 5, 5, 4, 4]\n"
     ]
    }
   ],
   "source": [
    "words_lst=['order','lord','bear','die','adventure','effect','age','peace','clay','hollow','finger','circumstances','harm','confidence','tremendous']\n",
    "freq_list=[]\n",
    "freq_list_rev=[]\n",
    "mean_lst_rev=[]\n",
    "for i in words_lst:\n",
    "    freq_list.append((counter_new_word_tokenize_list[i]))\n",
    "#print(freq_list)\n",
    "mean_lst=[4,4,5,5,3,4,3,3,2,3,3,3,2,2,2]\n",
    "mean_lst_rev=mean_lst[::-1]\n",
    "freq_list_rev=freq_list[::-1]\n",
    "for i in range(len(freq_list_rev)):\n",
    "    freq_list_rev[i]=(freq_list_rev[i]**(0.5))\n",
    "print(\"list of root of frequency\",freq_list_rev)\n",
    "print('list of number of meanings',mean_lst_rev)\n"
   ]
  },
  {
   "cell_type": "markdown",
   "metadata": {},
   "source": [
    "Here we can see that for the given 13 random content word root of the frequency of the word is directly proportional to the number of meanings."
   ]
  },
  {
   "cell_type": "markdown",
   "metadata": {},
   "source": [
    "But for the words with lower ranks this hypothesis does not hold true as the lower rank words are mostly function words."
   ]
  },
  {
   "cell_type": "markdown",
   "metadata": {},
   "source": [
    "Now Checking Heap's Law\n"
   ]
  },
  {
   "cell_type": "markdown",
   "metadata": {},
   "source": [
    "Heap's Law- |V|=kN^beta, where N is size of corpus and |V| is size of the vocabulary"
   ]
  },
  {
   "cell_type": "code",
   "execution_count": 37,
   "metadata": {},
   "outputs": [
    {
     "data": {
      "image/png": "[encoded data removed]",
      "text/plain": [
       "<Figure size 432x288 with 1 Axes>"
      ]
     },
     "metadata": {},
     "output_type": "display_data"
    }
   ],
   "source": [
    "types=[]\n",
    "tokens=[]\n",
    "period=0\n",
    "while(period<=len(word_tokenize_list)):\n",
    "    period+=100\n",
    "    k=0\n",
    "\n",
    "    new_word_tokenize_list=word_tokenize_list[0:period]\n",
    "    counter_new_word_tokenize_list=Counter(new_word_tokenize_list)\n",
    "    for i in remove_list:\n",
    "        del counter_new_word_tokenize_list[i]\n",
    "    for i in counter_new_word_tokenize_list:\n",
    "        k+=counter_new_word_tokenize_list[i]\n",
    "    types.append(len(counter_new_word_tokenize_list))\n",
    "    tokens.append(k)\n",
    "#print(types,tokens)\n",
    "plt.plot(tokens,types)\n",
    "plt.ylabel('types')\n",
    "plt.xlabel('tokens')\n",
    "plt.show()\n",
    "\n",
    "\n",
    "\n",
    "    \n",
    "    "
   ]
  },
  {
   "cell_type": "markdown",
   "metadata": {},
   "source": [
    "Plotting the graph between types and tokens we see that the text is following Heap's Law. Now we calculate the value of k and beta "
   ]
  },
  {
   "cell_type": "code",
   "execution_count": 64,
   "metadata": {},
   "outputs": [
    {
     "name": "stdout",
     "output_type": "stream",
     "text": [
      "[10.4418059   0.59042934]\n"
     ]
    }
   ],
   "source": [
    "from scipy.optimize import curve_fit\n",
    "def heaps(x,k,beta):\n",
    "    return k*(x**beta)\n",
    "init_vals=[40,0.6]\n",
    "best_vals, covar = curve_fit(heaps, tokens,types, p0=init_vals)\n",
    "print(best_vals)\n",
    "\n"
   ]
  },
  {
   "cell_type": "markdown",
   "metadata": {},
   "source": [
    "The value of k comes out to be 10.4418059 and beta = 0.59042934 which suggests that Heap's law holds true for the given corpus"
   ]
  },
  {
   "cell_type": "code",
   "execution_count": null,
   "metadata": {},
   "outputs": [],
   "source": []
  }
 ],
 "metadata": {
  "kernelspec": {
   "display_name": "Python 3",
   "language": "python",
   "name": "python3"
  },
  "language_info": {
   "codemirror_mode": {
    "name": "ipython",
    "version": 3
   },
   "file_extension": ".py",
   "mimetype": "text/x-python",
   "name": "python",
   "nbconvert_exporter": "python",
   "pygments_lexer": "ipython3",
   "version": "3.6.5"
  }
 },
 "nbformat": 4,
 "nbformat_minor": 2
}
